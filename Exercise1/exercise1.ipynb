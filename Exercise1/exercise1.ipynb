{
 "cells": [
  {
   "cell_type": "markdown",
   "source": "# Programming Exercise 1: Linear Regression\n\n## Introduction\n\nIn this exercise, you will implement linear regression and get to see it work on data. Before starting on this programming exercise, we strongly recommend watching the video lectures and completing the review questions for the associated topics.\n\nAll the information you need for solving this assignment is in this notebook, and all the code you will be implementing will take place within this notebook. The assignment can be promptly submitted to the coursera grader directly from this notebook (code and instructions are included below).\n\nBefore we begin with the exercises, we need to import all libraries required for this programming exercise. Throughout the course, we will be using [`numpy`](http://www.numpy.org/) for all arrays and matrix operations, and [`matplotlib`](https://matplotlib.org/) for plotting.\n\nYou can find instructions on how to install required libraries in the README file in the [github repository](https://github.com/dibgerge/ml-coursera-python-assignments).",
   "metadata": {
    "cell_id": "00000-923d2286-da74-4e46-8fc6-9b9c0dbb72dd",
    "deepnote_cell_type": "markdown"
   }
  },
  {
   "cell_type": "code",
   "metadata": {
    "cell_id": "00001-1c1a9839-90ab-4e21-bf54-7a77e88c6e62",
    "deepnote_to_be_reexecuted": false,
    "source_hash": "c8cf2669",
    "execution_start": 1622497701757,
    "execution_millis": 2,
    "deepnote_cell_type": "code"
   },
   "source": "# used for manipulating directory paths\nimport os\n\n# Scientific and vector computation for python\nimport numpy as np\n\n# Plotting library\nfrom matplotlib import pyplot\nfrom mpl_toolkits.mplot3d import Axes3D  # needed to plot 3-D surfaces\n\n# library written for this exercise providing additional functions for assignment submission, and others\nimport utils \n\n# define the submission/grader object for this exercise\ngrader = utils.Grader()\n\n# tells matplotlib to embed plots within the notebook\n%matplotlib inline",
   "outputs": [],
   "execution_count": null
  },
  {
   "cell_type": "markdown",
   "source": "## Submission and Grading\n\nAfter completing each part of the assignment, be sure to submit your solutions to the grader.\n\nFor this programming exercise, you are only required to complete the first part of the exercise to implement linear regression with one variable. The second part of the exercise, which is optional, covers linear regression with multiple variables. The following is a breakdown of how each part of this exercise is scored.\n\n**Required Exercises**\n\n| Section | Part                                           |Submitted Function                     | Points \n|---------|:-                                             |:-                                     | :-:    \n| 1       | [Warm up exercise](#section1)                  | [`warmUpExercise`](#warmUpExercise)    |  10    \n| 2       | [Compute cost for one variable](#section2)     | [`computeCost`](#computeCost)         |  40    \n| 3       | [Gradient descent for one variable](#section3) | [`gradientDescent`](#gradientDescent) |  50    \n|         | Total Points                                   |                                       | 100    \n\n**Optional Exercises**\n\n| Section | Part                                                 | Submitted Function | Points |\n|:-------:|:-                                                    |:-:                  | :-:    |\n| 4       | [Feature normalization](#section4)                   | [`featureNormalize`](#featureNormalize) | 0      |\n| 5       | [Compute cost for multiple variables](#section5)     | [`computeCostMulti`](#computeCostMulti) | 0      |\n| 6       | [Gradient descent for multiple variables](#section5) | [`gradientDescentMulti`](#gradientDescentMulti) |0      |\n| 7       | [Normal Equations](#section7)                        | [`normalEqn`](#normalEqn)        | 0      |\n\nYou are allowed to submit your solutions multiple times, and we will take only the highest score into consideration.\n\n<div class=\"alert alert-block alert-warning\">\nAt the end of each section in this notebook, we have a cell which contains code for submitting the solutions thus far to the grader. Execute the cell to see your score up to the current section. For all your work to be submitted properly, you must execute those cells at least once. They must also be re-executed everytime the submitted function is updated.\n</div>\n\n\n## Debugging\n\nHere are some things to keep in mind throughout this exercise:\n\n- Python array indices start from zero, not one (contrary to OCTAVE/MATLAB). \n\n- There is an important distinction between python arrays (called `list` or `tuple`) and `numpy` arrays. You should use `numpy` arrays in all your computations. Vector/matrix operations work only with `numpy` arrays. Python lists do not support vector operations (you need to use for loops).\n\n- If you are seeing many errors at runtime, inspect your matrix operations to make sure that you are adding and multiplying matrices of compatible dimensions. Printing the dimensions of `numpy` arrays using the `shape` property will help you debug.\n\n- By default, `numpy` interprets math operators to be element-wise operators. If you want to do matrix multiplication, you need to use the `dot` function in `numpy`. For, example if `A` and `B` are two `numpy` matrices, then the matrix operation AB is `np.dot(A, B)`. Note that for 2-dimensional matrices or vectors (1-dimensional), this is also equivalent to `A@B` (requires python >= 3.5).",
   "metadata": {
    "cell_id": "00002-9cb094d1-ae47-4b2c-a4eb-cf82c6bc79eb",
    "deepnote_cell_type": "markdown"
   }
  },
  {
   "cell_type": "markdown",
   "source": "<a id=\"section1\"></a>\n## 1 Simple python and `numpy` function\n\nThe first part of this assignment gives you practice with python and `numpy` syntax and the homework submission process. In the next cell, you will find the outline of a `python` function. Modify it to return a 5 x 5 identity matrix by filling in the following code:\n\n```python\nA = np.eye(5)\n```\n<a id=\"warmUpExercise\"></a>",
   "metadata": {
    "cell_id": "00003-169aad48-9eba-4ef7-824c-f91da264d4fc",
    "deepnote_cell_type": "markdown"
   }
  },
  {
   "cell_type": "code",
   "metadata": {
    "cell_id": "00004-13cadd8e-1f46-4d4f-93f3-57fa448a7447",
    "deepnote_to_be_reexecuted": false,
    "source_hash": "a2b0e",
    "execution_start": 1622498081961,
    "execution_millis": 1,
    "deepnote_cell_type": "code"
   },
   "source": "def warmUpExercise():\n    \"\"\"\n    Example function in Python which computes the identity matrix.\n    \n    Returns\n    -------\n    A : array_like\n        The 5x5 identity matrix.\n    \n    Instructions\n    ------------\n    Return the 5x5 identity matrix.\n    \"\"\"    \n    # ======== YOUR CODE HERE ======\n    A = [[1, 0, 0, 0, 0],\n         [0, 1, 0, 0, 0],\n         [0, 0, 1, 0, 0],\n         [0, 0, 0, 1, 0],\n         [0, 0, 0, 0, 1]]   # modify this line\n    \n    # ==============================\n    return A",
   "outputs": [],
   "execution_count": null
  },
  {
   "cell_type": "markdown",
   "source": "The previous cell only defines the function `warmUpExercise`. We can now run it by executing the following cell to see its output. You should see output similar to the following:\n\n```python\narray([[ 1.,  0.,  0.,  0.,  0.],\n       [ 0.,  1.,  0.,  0.,  0.],\n       [ 0.,  0.,  1.,  0.,  0.],\n       [ 0.,  0.,  0.,  1.,  0.],\n       [ 0.,  0.,  0.,  0.,  1.]])\n```",
   "metadata": {
    "cell_id": "00005-53ed5a6c-fc9f-43b5-88b2-940ac534e370",
    "deepnote_cell_type": "markdown"
   }
  },
  {
   "cell_type": "code",
   "metadata": {
    "cell_id": "00006-0199008b-0c0b-42df-926d-aa8990f08b45",
    "deepnote_to_be_reexecuted": false,
    "source_hash": "113c639e",
    "execution_start": 1622498087749,
    "execution_millis": 11,
    "deepnote_cell_type": "code"
   },
   "source": "warmUpExercise()",
   "outputs": [
    {
     "output_type": "execute_result",
     "execution_count": 5,
     "data": {
      "text/plain": "[[1, 0, 0, 0, 0],\n [0, 1, 0, 0, 0],\n [0, 0, 1, 0, 0],\n [0, 0, 0, 1, 0],\n [0, 0, 0, 0, 1]]"
     },
     "metadata": {}
    }
   ],
   "execution_count": null
  },
  {
   "cell_type": "markdown",
   "source": "### 1.1 Submitting solutions\n\nAfter completing a part of the exercise, you can submit your solutions for grading by first adding the function you modified to the grader object, and then sending your function to Coursera for grading. \n\nThe grader will prompt you for your login e-mail and submission token. You can obtain a submission token from the web page for the assignment. You are allowed to submit your solutions multiple times, and we will take only the highest score into consideration.\n\nExecute the next cell to grade your solution to the first part of this exercise.\n\n*You should now submit your solutions.*",
   "metadata": {
    "cell_id": "00007-5cf95f30-f4e5-4f27-8d4d-0f8da09845fc",
    "deepnote_cell_type": "markdown"
   }
  },
  {
   "cell_type": "code",
   "metadata": {
    "cell_id": "00008-4eb5c179-f39b-4403-b076-545518f85512",
    "deepnote_cell_type": "code"
   },
   "source": "# appends the implemented function in part 1 to the grader object\ngrader[1] = warmUpExercise\n\n# send the added functions to coursera grader for getting a grade on this part\ngrader.grade()",
   "execution_count": null,
   "outputs": []
  },
  {
   "cell_type": "markdown",
   "source": "## 2 Linear regression with one variable\n\nNow you will implement linear regression with one variable to predict profits for a food truck. Suppose you are the CEO of a restaurant franchise and are considering different cities for opening a new outlet. The chain already has trucks in various cities and you have data for profits and populations from the cities. You would like to use this data to help you select which city to expand to next. \n\nThe file `Data/ex1data1.txt` contains the dataset for our linear regression problem. The first column is the population of a city (in 10,000s) and the second column is the profit of a food truck in that city (in $10,000s). A negative value for profit indicates a loss. \n\nWe provide you with the code needed to load this data. The dataset is loaded from the data file into the variables `x` and `y`:",
   "metadata": {
    "cell_id": "00009-a06a35e2-7c16-47a9-8b3f-434599038c9b",
    "deepnote_cell_type": "markdown"
   }
  },
  {
   "cell_type": "code",
   "metadata": {
    "cell_id": "00010-b1006489-ee75-4cfc-9d1c-21b83dbf1ddf",
    "deepnote_cell_type": "code"
   },
   "source": "# Read comma separated data\ndata = np.loadtxt(os.path.join('Data', 'ex1data1.txt'), delimiter=',')\nX, y = data[:, 0], data[:, 1]\n\nm = y.size  # number of training examples",
   "execution_count": null,
   "outputs": []
  },
  {
   "cell_type": "markdown",
   "source": "### 2.1 Plotting the Data\n\nBefore starting on any task, it is often useful to understand the data by visualizing it. For this dataset, you can use a scatter plot to visualize the data, since it has only two properties to plot (profit and population). Many other problems that you will encounter in real life are multi-dimensional and cannot be plotted on a 2-d plot. There are many plotting libraries in python (see this [blog post](https://blog.modeanalytics.com/python-data-visualization-libraries/) for a good summary of the most popular ones). \n\nIn this course, we will be exclusively using `matplotlib` to do all our plotting. `matplotlib` is one of the most popular scientific plotting libraries in python and has extensive tools and functions to make beautiful plots. `pyplot` is a module within `matplotlib` which provides a simplified interface to `matplotlib`'s most common plotting tasks, mimicking MATLAB's plotting interface.\n\n<div class=\"alert alert-block alert-warning\">\nYou might have noticed that we have imported the `pyplot` module at the beginning of this exercise using the command `from matplotlib import pyplot`. This is rather uncommon, and if you look at python code elsewhere or in the `matplotlib` tutorials, you will see that the module is named `plt`. This is used by module renaming by using the import command `import matplotlib.pyplot as plt`. We will not using the short name of `pyplot` module in this class exercises, but you should be aware of this deviation from norm.\n</div>\n\n\nIn the following part, your first job is to complete the `plotData` function below. Modify the function and fill in the following code:\n\n```python\n    pyplot.plot(x, y, 'ro', ms=10, mec='k')\n    pyplot.ylabel('Profit in $10,000')\n    pyplot.xlabel('Population of City in 10,000s')\n```",
   "metadata": {
    "cell_id": "00011-d24576de-f6f6-4a29-ac81-b80a1bf9e3a4",
    "deepnote_cell_type": "markdown"
   }
  },
  {
   "cell_type": "code",
   "metadata": {
    "cell_id": "00012-4dbdd617-064b-4168-91d4-9ff0a56b6a9f",
    "deepnote_cell_type": "code"
   },
   "source": "def plotData(x, y):\n    \"\"\"\n    Plots the data points x and y into a new figure. Plots the data \n    points and gives the figure axes labels of population and profit.\n    \n    Parameters\n    ----------\n    x : array_like\n        Data point values for x-axis.\n\n    y : array_like\n        Data point values for y-axis. Note x and y should have the same size.\n    \n    Instructions\n    ------------\n    Plot the training data into a figure using the \"figure\" and \"plot\"\n    functions. Set the axes labels using the \"xlabel\" and \"ylabel\" functions.\n    Assume the population and revenue data have been passed in as the x\n    and y arguments of this function.    \n    \n    Hint\n    ----\n    You can use the 'ro' option with plot to have the markers\n    appear as red circles. Furthermore, you can make the markers larger by\n    using plot(..., 'ro', ms=10), where `ms` refers to marker size. You \n    can also set the marker edge color using the `mec` property.\n    \"\"\"\n    fig = pyplot.figure()  # open a new figure\n    \n    # ====================== YOUR CODE HERE ======================= \n    \n\n    # =============================================================\n",
   "execution_count": null,
   "outputs": []
  },
  {
   "cell_type": "markdown",
   "source": "Now run the defined function with the loaded data to visualize the data. The end result should look like the following figure:\n\n![](Figures/dataset1.png)\n\nExecute the next cell to visualize the data.",
   "metadata": {
    "cell_id": "00013-c5217f1b-f8ce-470d-a7ac-309259ea55d5",
    "deepnote_cell_type": "markdown"
   }
  },
  {
   "cell_type": "code",
   "metadata": {
    "cell_id": "00014-faf1ccae-0a47-4167-ac64-98869b7b8654",
    "deepnote_cell_type": "code"
   },
   "source": "plotData(X, y)",
   "execution_count": null,
   "outputs": []
  },
  {
   "cell_type": "markdown",
   "source": "To quickly learn more about the `matplotlib` plot function and what arguments you can provide to it, you can type `?pyplot.plot` in a cell within the jupyter notebook. This opens a separate page showing the documentation for the requested function. You can also search online for plotting documentation. \n\nTo set the markers to red circles, we used the option `'or'` within the `plot` function.",
   "metadata": {
    "cell_id": "00015-b8eecd7b-8366-41a2-8831-234408a68a0d",
    "deepnote_cell_type": "markdown"
   }
  },
  {
   "cell_type": "code",
   "metadata": {
    "cell_id": "00016-f2aa7a58-0ce5-49c7-98f3-4cd7515dc8bc",
    "deepnote_cell_type": "code"
   },
   "source": "?pyplot.plot",
   "execution_count": null,
   "outputs": []
  },
  {
   "cell_type": "markdown",
   "source": "<a id=\"section2\"></a>\n### 2.2 Gradient Descent\n\nIn this part, you will fit the linear regression parameters $\\theta$ to our dataset using gradient descent.\n\n#### 2.2.1 Update Equations\n\nThe objective of linear regression is to minimize the cost function\n\n$$ J(\\theta) = \\frac{1}{2m} \\sum_{i=1}^m \\left( h_{\\theta}(x^{(i)}) - y^{(i)}\\right)^2$$\n\nwhere the hypothesis $h_\\theta(x)$ is given by the linear model\n$$ h_\\theta(x) = \\theta^Tx = \\theta_0 + \\theta_1 x_1$$\n\nRecall that the parameters of your model are the $\\theta_j$ values. These are\nthe values you will adjust to minimize cost $J(\\theta)$. One way to do this is to\nuse the batch gradient descent algorithm. In batch gradient descent, each\niteration performs the update\n\n$$ \\theta_j = \\theta_j - \\alpha \\frac{1}{m} \\sum_{i=1}^m \\left( h_\\theta(x^{(i)}) - y^{(i)}\\right)x_j^{(i)} \\qquad \\text{simultaneously update } \\theta_j \\text{ for all } j$$\n\nWith each step of gradient descent, your parameters $\\theta_j$ come closer to the optimal values that will achieve the lowest cost J($\\theta$).\n\n<div class=\"alert alert-block alert-warning\">\n**Implementation Note:** We store each example as a row in the the $X$ matrix in Python `numpy`. To take into account the intercept term ($\\theta_0$), we add an additional first column to $X$ and set it to all ones. This allows us to treat $\\theta_0$ as simply another 'feature'.\n</div>\n\n\n#### 2.2.2 Implementation\n\nWe have already set up the data for linear regression. In the following cell, we add another dimension to our data to accommodate the $\\theta_0$ intercept term. Do NOT execute this cell more than once.",
   "metadata": {
    "cell_id": "00017-8ad02227-94b2-46d3-bd52-db0b172f8b02",
    "deepnote_cell_type": "markdown"
   }
  },
  {
   "cell_type": "code",
   "metadata": {
    "cell_id": "00018-a848921e-089e-4856-aefb-063ba5128a84",
    "deepnote_cell_type": "code"
   },
   "source": "# Add a column of ones to X. The numpy function stack joins arrays along a given axis. \n# The first axis (axis=0) refers to rows (training examples) \n# and second axis (axis=1) refers to columns (features).\nX = np.stack([np.ones(m), X], axis=1)",
   "execution_count": null,
   "outputs": []
  },
  {
   "cell_type": "markdown",
   "source": "<a id=\"section2\"></a>\n#### 2.2.3 Computing the cost $J(\\theta)$\n\nAs you perform gradient descent to learn minimize the cost function $J(\\theta)$, it is helpful to monitor the convergence by computing the cost. In this section, you will implement a function to calculate $J(\\theta)$ so you can check the convergence of your gradient descent implementation. \n\nYour next task is to complete the code for the function `computeCost` which computes $J(\\theta)$. As you are doing this, remember that the variables $X$ and $y$ are not scalar values. $X$ is a matrix whose rows represent the examples from the training set and $y$ is a vector whose each elemennt represent the value at a given row of $X$.\n<a id=\"computeCost\"></a>",
   "metadata": {
    "cell_id": "00019-d960e080-f7af-476c-9dbf-c06e2a7e02d0",
    "deepnote_cell_type": "markdown"
   }
  },
  {
   "cell_type": "code",
   "metadata": {
    "cell_id": "00020-7a0882e5-edfd-42ef-93b4-2bb8a30a4c2f",
    "deepnote_cell_type": "code"
   },
   "source": "def computeCost(X, y, theta):\n    \"\"\"\n    Compute cost for linear regression. Computes the cost of using theta as the\n    parameter for linear regression to fit the data points in X and y.\n    \n    Parameters\n    ----------\n    X : array_like\n        The input dataset of shape (m x n+1), where m is the number of examples,\n        and n is the number of features. We assume a vector of one's already \n        appended to the features so we have n+1 columns.\n    \n    y : array_like\n        The values of the function at each data point. This is a vector of\n        shape (m, ).\n    \n    theta : array_like\n        The parameters for the regression function. This is a vector of \n        shape (n+1, ).\n    \n    Returns\n    -------\n    J : float\n        The value of the regression cost function.\n    \n    Instructions\n    ------------\n    Compute the cost of a particular choice of theta. \n    You should set J to the cost.\n    \"\"\"\n    \n    # initialize some useful values\n    m = y.size  # number of training examples\n    \n    # You need to return the following variables correctly\n    J = 0\n    \n    # ====================== YOUR CODE HERE =====================\n\n    \n    # ===========================================================\n    return J",
   "execution_count": null,
   "outputs": []
  },
  {
   "cell_type": "markdown",
   "source": "Once you have completed the function, the next step will run `computeCost` two times using two different initializations of $\\theta$. You will see the cost printed to the screen.",
   "metadata": {
    "cell_id": "00021-b7a0704b-7971-475d-8c84-f7335fd4fdac",
    "deepnote_cell_type": "markdown"
   }
  },
  {
   "cell_type": "code",
   "metadata": {
    "cell_id": "00022-50dbc76f-4c85-4b7d-a694-bdb518e67706",
    "deepnote_cell_type": "code"
   },
   "source": "J = computeCost(X, y, theta=np.array([0.0, 0.0]))\nprint('With theta = [0, 0] \\nCost computed = %.2f' % J)\nprint('Expected cost value (approximately) 32.07\\n')\n\n# further testing of the cost function\nJ = computeCost(X, y, theta=np.array([-1, 2]))\nprint('With theta = [-1, 2]\\nCost computed = %.2f' % J)\nprint('Expected cost value (approximately) 54.24')",
   "execution_count": null,
   "outputs": []
  },
  {
   "cell_type": "markdown",
   "source": "*You should now submit your solutions by executing the following cell.*",
   "metadata": {
    "cell_id": "00023-5b928cb5-8005-4244-b249-074a1d8240a6",
    "deepnote_cell_type": "markdown"
   }
  },
  {
   "cell_type": "code",
   "metadata": {
    "cell_id": "00024-807d11f0-4f34-4383-a659-4336788ef1e1",
    "deepnote_cell_type": "code"
   },
   "source": "grader[2] = computeCost\ngrader.grade()",
   "execution_count": null,
   "outputs": []
  },
  {
   "cell_type": "markdown",
   "source": "<a id=\"section3\"></a>\n#### 2.2.4 Gradient descent\n\nNext, you will complete a function which implements gradient descent.\nThe loop structure has been written for you, and you only need to supply the updates to $\\theta$ within each iteration. \n\nAs you program, make sure you understand what you are trying to optimize and what is being updated. Keep in mind that the cost $J(\\theta)$ is parameterized by the vector $\\theta$, not $X$ and $y$. That is, we minimize the value of $J(\\theta)$ by changing the values of the vector $\\theta$, not by changing $X$ or $y$. [Refer to the equations in this notebook](#section2) and to the video lectures if you are uncertain. A good way to verify that gradient descent is working correctly is to look at the value of $J(\\theta)$ and check that it is decreasing with each step. \n\nThe starter code for the function `gradientDescent` calls `computeCost` on every iteration and saves the cost to a `python` list. Assuming you have implemented gradient descent and `computeCost` correctly, your value of $J(\\theta)$ should never increase, and should converge to a steady value by the end of the algorithm.\n\n<div class=\"alert alert-box alert-warning\">\n**Vectors and matrices in `numpy`** - Important implementation notes\n\nA vector in `numpy` is a one dimensional array, for example `np.array([1, 2, 3])` is a vector. A matrix in `numpy` is a two dimensional array, for example `np.array([[1, 2, 3], [4, 5, 6]])`. However, the following is still considered a matrix `np.array([[1, 2, 3]])` since it has two dimensions, even if it has a shape of 1x3 (which looks like a vector).\n\nGiven the above, the function `np.dot` which we will use for all matrix/vector multiplication has the following properties:\n- It always performs inner products on vectors. If `x=np.array([1, 2, 3])`, then `np.dot(x, x)` is a scalar.\n- For matrix-vector multiplication, so if $X$ is a $m\\times n$ matrix and $y$ is a vector of length $m$, then the operation `np.dot(y, X)` considers $y$ as a $1 \\times m$ vector. On the other hand, if $y$ is a vector of length $n$, then the operation `np.dot(X, y)` considers $y$ as a $n \\times 1$ vector.\n- A vector can be promoted to a matrix using `y[None]` or `[y[np.newaxis]`. That is, if `y = np.array([1, 2, 3])` is a vector of size 3, then `y[None, :]` is a matrix of shape $1 \\times 3$. We can use `y[:, None]` to obtain a shape of $3 \\times 1$.\n<div>\n<a id=\"gradientDescent\"></a>",
   "metadata": {
    "cell_id": "00025-3a849f9d-c703-4632-9e9c-14ba68db50c4",
    "deepnote_cell_type": "markdown"
   }
  },
  {
   "cell_type": "code",
   "metadata": {
    "cell_id": "00026-c9a61822-0734-4fed-9b7b-c3c972ea17d5",
    "deepnote_cell_type": "code"
   },
   "source": "def gradientDescent(X, y, theta, alpha, num_iters):\n    \"\"\"\n    Performs gradient descent to learn `theta`. Updates theta by taking `num_iters`\n    gradient steps with learning rate `alpha`.\n    \n    Parameters\n    ----------\n    X : array_like\n        The input dataset of shape (m x n+1).\n    \n    y : array_like\n        Value at given features. A vector of shape (m, ).\n    \n    theta : array_like\n        Initial values for the linear regression parameters. \n        A vector of shape (n+1, ).\n    \n    alpha : float\n        The learning rate.\n    \n    num_iters : int\n        The number of iterations for gradient descent. \n    \n    Returns\n    -------\n    theta : array_like\n        The learned linear regression parameters. A vector of shape (n+1, ).\n    \n    J_history : list\n        A python list for the values of the cost function after each iteration.\n    \n    Instructions\n    ------------\n    Peform a single gradient step on the parameter vector theta.\n\n    While debugging, it can be useful to print out the values of \n    the cost function (computeCost) and gradient here.\n    \"\"\"\n    # Initialize some useful values\n    m = y.shape[0]  # number of training examples\n    \n    # make a copy of theta, to avoid changing the original array, since numpy arrays\n    # are passed by reference to functions\n    theta = theta.copy()\n    \n    J_history = [] # Use a python list to save cost in every iteration\n    \n    for i in range(num_iters):\n        # ==================== YOUR CODE HERE =================================\n        \n\n        # =====================================================================\n        \n        # save the cost J in every iteration\n        J_history.append(computeCost(X, y, theta))\n    \n    return theta, J_history",
   "execution_count": null,
   "outputs": []
  },
  {
   "cell_type": "markdown",
   "source": "After you are finished call the implemented `gradientDescent` function and print the computed $\\theta$. We initialize the $\\theta$ parameters to 0 and the learning rate $\\alpha$ to 0.01. Execute the following cell to check your code.",
   "metadata": {
    "cell_id": "00027-88b29bf8-ccb0-4353-b5e3-c0e67ed592f5",
    "deepnote_cell_type": "markdown"
   }
  },
  {
   "cell_type": "code",
   "metadata": {
    "cell_id": "00028-68d3b0c6-594e-4c89-818f-cb3d9bd26c9a",
    "deepnote_cell_type": "code"
   },
   "source": "# initialize fitting parameters\ntheta = np.zeros(2)\n\n# some gradient descent settings\niterations = 1500\nalpha = 0.01\n\ntheta, J_history = gradientDescent(X ,y, theta, alpha, iterations)\nprint('Theta found by gradient descent: {:.4f}, {:.4f}'.format(*theta))\nprint('Expected theta values (approximately): [-3.6303, 1.1664]')",
   "execution_count": null,
   "outputs": []
  },
  {
   "cell_type": "markdown",
   "source": "We will use your final parameters to plot the linear fit. The results should look like the following figure.\n\n![](Figures/regression_result.png)",
   "metadata": {
    "cell_id": "00029-36852443-4ad3-49cc-a25d-32a1794b7233",
    "deepnote_cell_type": "markdown"
   }
  },
  {
   "cell_type": "code",
   "metadata": {
    "cell_id": "00030-1e7562d5-d402-4ca4-81b1-43f48507552c",
    "deepnote_cell_type": "code"
   },
   "source": "# plot the linear fit\nplotData(X[:, 1], y)\npyplot.plot(X[:, 1], np.dot(X, theta), '-')\npyplot.legend(['Training data', 'Linear regression']);",
   "execution_count": null,
   "outputs": []
  },
  {
   "cell_type": "markdown",
   "source": "Your final values for $\\theta$ will also be used to make predictions on profits in areas of 35,000 and 70,000 people.\n\n<div class=\"alert alert-block alert-success\">\nNote the way that the following lines use matrix multiplication, rather than explicit summation or looping, to calculate the predictions. This is an example of code vectorization in `numpy`.\n</div>\n\n<div class=\"alert alert-block alert-success\">\nNote that the first argument to the `numpy` function `dot` is a python list. `numpy` can internally converts **valid** python lists to numpy arrays when explicitly provided as arguments to `numpy` functions.\n</div>\n",
   "metadata": {
    "cell_id": "00031-61bd776b-cde5-4c04-8156-0055ecc31faa",
    "deepnote_cell_type": "markdown"
   }
  },
  {
   "cell_type": "code",
   "metadata": {
    "cell_id": "00032-2a0e5c8c-0ab6-4e67-9005-7a68c84774e5",
    "deepnote_cell_type": "code"
   },
   "source": "# Predict values for population sizes of 35,000 and 70,000\npredict1 = np.dot([1, 3.5], theta)\nprint('For population = 35,000, we predict a profit of {:.2f}\\n'.format(predict1*10000))\n\npredict2 = np.dot([1, 7], theta)\nprint('For population = 70,000, we predict a profit of {:.2f}\\n'.format(predict2*10000))",
   "execution_count": null,
   "outputs": []
  },
  {
   "cell_type": "markdown",
   "source": "*You should now submit your solutions by executing the next cell.*",
   "metadata": {
    "cell_id": "00033-d393fd45-cb53-4cec-bf68-b74e871e5ae4",
    "deepnote_cell_type": "markdown"
   }
  },
  {
   "cell_type": "code",
   "metadata": {
    "cell_id": "00034-56631b29-f808-41b7-9fe1-79dd9ebce020",
    "deepnote_cell_type": "code"
   },
   "source": "grader[3] = gradientDescent\ngrader.grade()",
   "execution_count": null,
   "outputs": []
  },
  {
   "cell_type": "markdown",
   "source": "### 2.4 Visualizing $J(\\theta)$\n\nTo understand the cost function $J(\\theta)$ better, you will now plot the cost over a 2-dimensional grid of $\\theta_0$ and $\\theta_1$ values. You will not need to code anything new for this part, but you should understand how the code you have written already is creating these images.\n\nIn the next cell, the code is set up to calculate $J(\\theta)$ over a grid of values using the `computeCost` function that you wrote. After executing the following cell, you will have a 2-D array of $J(\\theta)$ values. Then, those values are used to produce surface and contour plots of $J(\\theta)$ using the matplotlib `plot_surface` and `contourf` functions. The plots should look something like the following:\n\n![](Figures/cost_function.png)\n\nThe purpose of these graphs is to show you how $J(\\theta)$ varies with changes in $\\theta_0$ and $\\theta_1$. The cost function $J(\\theta)$ is bowl-shaped and has a global minimum. (This is easier to see in the contour plot than in the 3D surface plot). This minimum is the optimal point for $\\theta_0$ and $\\theta_1$, and each step of gradient descent moves closer to this point.",
   "metadata": {
    "cell_id": "00035-59fa740c-8b4a-4e1d-8559-56b1970a424b",
    "deepnote_cell_type": "markdown"
   }
  },
  {
   "cell_type": "code",
   "metadata": {
    "cell_id": "00036-fab74076-d1f4-4bde-bb21-0b9dd2806873",
    "deepnote_cell_type": "code"
   },
   "source": "# grid over which we will calculate J\ntheta0_vals = np.linspace(-10, 10, 100)\ntheta1_vals = np.linspace(-1, 4, 100)\n\n# initialize J_vals to a matrix of 0's\nJ_vals = np.zeros((theta0_vals.shape[0], theta1_vals.shape[0]))\n\n# Fill out J_vals\nfor i, theta0 in enumerate(theta0_vals):\n    for j, theta1 in enumerate(theta1_vals):\n        J_vals[i, j] = computeCost(X, y, [theta0, theta1])\n        \n# Because of the way meshgrids work in the surf command, we need to\n# transpose J_vals before calling surf, or else the axes will be flipped\nJ_vals = J_vals.T\n\n# surface plot\nfig = pyplot.figure(figsize=(12, 5))\nax = fig.add_subplot(121, projection='3d')\nax.plot_surface(theta0_vals, theta1_vals, J_vals, cmap='viridis')\npyplot.xlabel('theta0')\npyplot.ylabel('theta1')\npyplot.title('Surface')\n\n# contour plot\n# Plot J_vals as 15 contours spaced logarithmically between 0.01 and 100\nax = pyplot.subplot(122)\npyplot.contour(theta0_vals, theta1_vals, J_vals, linewidths=2, cmap='viridis', levels=np.logspace(-2, 3, 20))\npyplot.xlabel('theta0')\npyplot.ylabel('theta1')\npyplot.plot(theta[0], theta[1], 'ro', ms=10, lw=2)\npyplot.title('Contour, showing minimum')\npass",
   "execution_count": null,
   "outputs": []
  },
  {
   "cell_type": "markdown",
   "source": "## Optional Exercises\n\nIf you have successfully completed the material above, congratulations! You now understand linear regression and should able to start using it on your own datasets.\n\nFor the rest of this programming exercise, we have included the following optional exercises. These exercises will help you gain a deeper understanding of the material, and if you are able to do so, we encourage you to complete them as well. You can still submit your solutions to these exercises to check if your answers are correct.\n\n## 3 Linear regression with multiple variables\n\nIn this part, you will implement linear regression with multiple variables to predict the prices of houses. Suppose you are selling your house and you want to know what a good market price would be. One way to do this is to first collect information on recent houses sold and make a model of housing prices.\n\nThe file `Data/ex1data2.txt` contains a training set of housing prices in Portland, Oregon. The first column is the size of the house (in square feet), the second column is the number of bedrooms, and the third column is the price\nof the house. \n\n<a id=\"section4\"></a>\n### 3.1 Feature Normalization\n\nWe start by loading and displaying some values from this dataset. By looking at the values, note that house sizes are about 1000 times the number of bedrooms. When features differ by orders of magnitude, first performing feature scaling can make gradient descent converge much more quickly.",
   "metadata": {
    "cell_id": "00037-0a53e64e-e2f8-440a-9760-470e8b08dd1b",
    "deepnote_cell_type": "markdown"
   }
  },
  {
   "cell_type": "code",
   "metadata": {
    "cell_id": "00038-bc8d4593-d95a-4e16-89ca-58048e6358e0",
    "deepnote_cell_type": "code"
   },
   "source": "# Load data\ndata = np.loadtxt(os.path.join('Data', 'ex1data2.txt'), delimiter=',')\nX = data[:, :2]\ny = data[:, 2]\nm = y.size\n\n# print out some data points\nprint('{:>8s}{:>8s}{:>10s}'.format('X[:,0]', 'X[:, 1]', 'y'))\nprint('-'*26)\nfor i in range(10):\n    print('{:8.0f}{:8.0f}{:10.0f}'.format(X[i, 0], X[i, 1], y[i]))",
   "execution_count": null,
   "outputs": []
  },
  {
   "cell_type": "markdown",
   "source": "Your task here is to complete the code in `featureNormalize` function:\n- Subtract the mean value of each feature from the dataset.\n- After subtracting the mean, additionally scale (divide) the feature values by their respective “standard deviations.”\n\nThe standard deviation is a way of measuring how much variation there is in the range of values of a particular feature (most data points will lie within ±2 standard deviations of the mean); this is an alternative to taking the range of values (max-min). In `numpy`, you can use the `std` function to compute the standard deviation. \n\nFor example, the quantity `X[:, 0]` contains all the values of $x_1$ (house sizes) in the training set, so `np.std(X[:, 0])` computes the standard deviation of the house sizes.\nAt the time that the function `featureNormalize` is called, the extra column of 1’s corresponding to $x_0 = 1$ has not yet been added to $X$. \n\nYou will do this for all the features and your code should work with datasets of all sizes (any number of features / examples). Note that each column of the matrix $X$ corresponds to one feature.\n\n<div class=\"alert alert-block alert-warning\">\n**Implementation Note:** When normalizing the features, it is important\nto store the values used for normalization - the mean value and the standard deviation used for the computations. After learning the parameters\nfrom the model, we often want to predict the prices of houses we have not\nseen before. Given a new x value (living room area and number of bedrooms), we must first normalize x using the mean and standard deviation that we had previously computed from the training set.\n</div>\n<a id=\"featureNormalize\"></a>",
   "metadata": {
    "cell_id": "00039-e1922c23-6fb3-4d14-ac98-995dc63589ec",
    "deepnote_cell_type": "markdown"
   }
  },
  {
   "cell_type": "code",
   "metadata": {
    "cell_id": "00040-4aceb9f3-5f2f-46eb-9ae8-b2ecf10f504f",
    "deepnote_cell_type": "code"
   },
   "source": "def  featureNormalize(X):\n    \"\"\"\n    Normalizes the features in X. returns a normalized version of X where\n    the mean value of each feature is 0 and the standard deviation\n    is 1. This is often a good preprocessing step to do when working with\n    learning algorithms.\n    \n    Parameters\n    ----------\n    X : array_like\n        The dataset of shape (m x n).\n    \n    Returns\n    -------\n    X_norm : array_like\n        The normalized dataset of shape (m x n).\n    \n    Instructions\n    ------------\n    First, for each feature dimension, compute the mean of the feature\n    and subtract it from the dataset, storing the mean value in mu. \n    Next, compute the  standard deviation of each feature and divide\n    each feature by it's standard deviation, storing the standard deviation \n    in sigma. \n    \n    Note that X is a matrix where each column is a feature and each row is\n    an example. You needto perform the normalization separately for each feature. \n    \n    Hint\n    ----\n    You might find the 'np.mean' and 'np.std' functions useful.\n    \"\"\"\n    # You need to set these values correctly\n    X_norm = X.copy()\n    mu = np.zeros(X.shape[1])\n    sigma = np.zeros(X.shape[1])\n\n    # =========================== YOUR CODE HERE =====================\n\n    \n    # ================================================================\n    return X_norm, mu, sigma",
   "execution_count": null,
   "outputs": []
  },
  {
   "cell_type": "markdown",
   "source": "Execute the next cell to run the implemented `featureNormalize` function.",
   "metadata": {
    "cell_id": "00041-fb041db0-e7b7-4ee6-806e-ee34ccdc9c70",
    "deepnote_cell_type": "markdown"
   }
  },
  {
   "cell_type": "code",
   "metadata": {
    "cell_id": "00042-df5abd35-83b2-4e66-8f2b-6dfdb3aaf757",
    "deepnote_cell_type": "code"
   },
   "source": "# call featureNormalize on the loaded data\nX_norm, mu, sigma = featureNormalize(X)\n\nprint('Computed mean:', mu)\nprint('Computed standard deviation:', sigma)",
   "execution_count": null,
   "outputs": []
  },
  {
   "cell_type": "markdown",
   "source": "*You should now submit your solutions.*",
   "metadata": {
    "cell_id": "00043-92a2a195-ea13-4497-97c6-c8ce42b9a805",
    "deepnote_cell_type": "markdown"
   }
  },
  {
   "cell_type": "code",
   "metadata": {
    "cell_id": "00044-87f39e58-d829-4794-85e5-845fcc8b5de4",
    "deepnote_cell_type": "code"
   },
   "source": "grader[4] = featureNormalize\ngrader.grade()",
   "execution_count": null,
   "outputs": []
  },
  {
   "cell_type": "markdown",
   "source": "After the `featureNormalize` function is tested, we now add the intercept term to `X_norm`:",
   "metadata": {
    "cell_id": "00045-a01d5ff9-29ac-4e07-b53c-038a13016161",
    "deepnote_cell_type": "markdown"
   }
  },
  {
   "cell_type": "code",
   "metadata": {
    "cell_id": "00046-76e6d5a9-fb1a-4078-a7c8-8a51595892ab",
    "deepnote_cell_type": "code"
   },
   "source": "# Add intercept term to X\nX = np.concatenate([np.ones((m, 1)), X_norm], axis=1)",
   "execution_count": null,
   "outputs": []
  },
  {
   "cell_type": "markdown",
   "source": "<a id=\"section5\"></a>\n### 3.2 Gradient Descent\n\nPreviously, you implemented gradient descent on a univariate regression problem. The only difference now is that there is one more feature in the matrix $X$. The hypothesis function and the batch gradient descent update\nrule remain unchanged. \n\nYou should complete the code for the functions `computeCostMulti` and `gradientDescentMulti` to implement the cost function and gradient descent for linear regression with multiple variables. If your code in the previous part (single variable) already supports multiple variables, you can use it here too.\nMake sure your code supports any number of features and is well-vectorized.\nYou can use the `shape` property of `numpy` arrays to find out how many features are present in the dataset.\n\n<div class=\"alert alert-block alert-warning\">\n**Implementation Note:** In the multivariate case, the cost function can\nalso be written in the following vectorized form:\n\n$$ J(\\theta) = \\frac{1}{2m}(X\\theta - \\vec{y})^T(X\\theta - \\vec{y}) $$\n\nwhere \n\n$$ X = \\begin{pmatrix}\n          - (x^{(1)})^T - \\\\\n          - (x^{(2)})^T - \\\\\n          \\vdots \\\\\n          - (x^{(m)})^T - \\\\ \\\\\n        \\end{pmatrix} \\qquad \\mathbf{y} = \\begin{bmatrix} y^{(1)} \\\\ y^{(2)} \\\\ \\vdots \\\\ y^{(m)} \\\\\\end{bmatrix}$$\n\nthe vectorized version is efficient when you are working with numerical computing tools like `numpy`. If you are an expert with matrix operations, you can prove to yourself that the two forms are equivalent.\n</div>\n\n<a id=\"computeCostMulti\"></a>",
   "metadata": {
    "cell_id": "00047-19a831dd-b2e4-4147-ad03-3f1c04da962e",
    "deepnote_cell_type": "markdown"
   }
  },
  {
   "cell_type": "code",
   "metadata": {
    "cell_id": "00048-f1e5b20e-4283-4387-b7ac-a56c6da24ddc",
    "deepnote_cell_type": "code"
   },
   "source": "def computeCostMulti(X, y, theta):\n    \"\"\"\n    Compute cost for linear regression with multiple variables.\n    Computes the cost of using theta as the parameter for linear regression to fit the data points in X and y.\n    \n    Parameters\n    ----------\n    X : array_like\n        The dataset of shape (m x n+1).\n    \n    y : array_like\n        A vector of shape (m, ) for the values at a given data point.\n    \n    theta : array_like\n        The linear regression parameters. A vector of shape (n+1, )\n    \n    Returns\n    -------\n    J : float\n        The value of the cost function. \n    \n    Instructions\n    ------------\n    Compute the cost of a particular choice of theta. You should set J to the cost.\n    \"\"\"\n    # Initialize some useful values\n    m = y.shape[0] # number of training examples\n    \n    # You need to return the following variable correctly\n    J = 0\n    \n    # ======================= YOUR CODE HERE ===========================\n\n    \n    # ==================================================================\n    return J\n",
   "execution_count": null,
   "outputs": []
  },
  {
   "cell_type": "markdown",
   "source": "*You should now submit your solutions.*",
   "metadata": {
    "cell_id": "00049-82f47754-15c2-4510-acb6-491a66c17266",
    "deepnote_cell_type": "markdown"
   }
  },
  {
   "cell_type": "code",
   "metadata": {
    "cell_id": "00050-93d78aae-275a-42bc-82ba-6097cda92c6e",
    "deepnote_cell_type": "code"
   },
   "source": "grader[5] = computeCostMulti\ngrader.grade()",
   "execution_count": null,
   "outputs": []
  },
  {
   "cell_type": "markdown",
   "source": "<a id=\"gradientDescentMulti\"></a>",
   "metadata": {
    "cell_id": "00051-58044e5d-a2bc-435c-9ab7-099cfdd5857c",
    "deepnote_cell_type": "markdown"
   }
  },
  {
   "cell_type": "code",
   "metadata": {
    "cell_id": "00052-9497609a-9f89-4a0a-96e1-6f71fe6c7c8d",
    "deepnote_cell_type": "code"
   },
   "source": "def gradientDescentMulti(X, y, theta, alpha, num_iters):\n    \"\"\"\n    Performs gradient descent to learn theta.\n    Updates theta by taking num_iters gradient steps with learning rate alpha.\n        \n    Parameters\n    ----------\n    X : array_like\n        The dataset of shape (m x n+1).\n    \n    y : array_like\n        A vector of shape (m, ) for the values at a given data point.\n    \n    theta : array_like\n        The linear regression parameters. A vector of shape (n+1, )\n    \n    alpha : float\n        The learning rate for gradient descent. \n    \n    num_iters : int\n        The number of iterations to run gradient descent. \n    \n    Returns\n    -------\n    theta : array_like\n        The learned linear regression parameters. A vector of shape (n+1, ).\n    \n    J_history : list\n        A python list for the values of the cost function after each iteration.\n    \n    Instructions\n    ------------\n    Peform a single gradient step on the parameter vector theta.\n\n    While debugging, it can be useful to print out the values of \n    the cost function (computeCost) and gradient here.\n    \"\"\"\n    # Initialize some useful values\n    m = y.shape[0] # number of training examples\n    \n    # make a copy of theta, which will be updated by gradient descent\n    theta = theta.copy()\n    \n    J_history = []\n    \n    for i in range(num_iters):\n        # ======================= YOUR CODE HERE ==========================\n\n        \n        # =================================================================\n        \n        # save the cost J in every iteration\n        J_history.append(computeCostMulti(X, y, theta))\n    \n    return theta, J_history",
   "execution_count": null,
   "outputs": []
  },
  {
   "cell_type": "markdown",
   "source": "*You should now submit your solutions.*",
   "metadata": {
    "cell_id": "00053-078ad2cc-ddb6-447f-8f64-52ea61fded80",
    "deepnote_cell_type": "markdown"
   }
  },
  {
   "cell_type": "code",
   "metadata": {
    "cell_id": "00054-ebffbcc0-c312-4731-bd45-6351cba129a8",
    "deepnote_cell_type": "code"
   },
   "source": "grader[6] = gradientDescentMulti\ngrader.grade()",
   "execution_count": null,
   "outputs": []
  },
  {
   "cell_type": "markdown",
   "source": "#### 3.2.1 Optional (ungraded) exercise: Selecting learning rates\n\nIn this part of the exercise, you will get to try out different learning rates for the dataset and find a learning rate that converges quickly. You can change the learning rate by modifying the following code and changing the part of the code that sets the learning rate.\n\nUse your implementation of `gradientDescentMulti` function and run gradient descent for about 50 iterations at the chosen learning rate. The function should also return the history of $J(\\theta)$ values in a vector $J$.\n\nAfter the last iteration, plot the J values against the number of the iterations.\n\nIf you picked a learning rate within a good range, your plot look similar as the following Figure. \n\n![](Figures/learning_rate.png)\n\nIf your graph looks very different, especially if your value of $J(\\theta)$ increases or even blows up, adjust your learning rate and try again. We recommend trying values of the learning rate $\\alpha$ on a log-scale, at multiplicative steps of about 3 times the previous value (i.e., 0.3, 0.1, 0.03, 0.01 and so on). You may also want to adjust the number of iterations you are running if that will help you see the overall trend in the curve.\n\n<div class=\"alert alert-block alert-warning\">\n**Implementation Note:** If your learning rate is too large, $J(\\theta)$ can diverge and ‘blow up’, resulting in values which are too large for computer calculations. In these situations, `numpy` will tend to return\nNaNs. NaN stands for ‘not a number’ and is often caused by undefined operations that involve −∞ and +∞.\n</div>\n\n<div class=\"alert alert-block alert-warning\">\n**MATPLOTLIB tip:** To compare how different learning learning rates affect convergence, it is helpful to plot $J$ for several learning rates on the same figure. This can be done by making `alpha` a python list, and looping across the values within this list, and calling the plot function in every iteration of the loop. It is also useful to have a legend to distinguish the different lines within the plot. Search online for `pyplot.legend` for help on showing legends in `matplotlib`.\n</div>\n\nNotice the changes in the convergence curves as the learning rate changes. With a small learning rate, you should find that gradient descent takes a very long time to converge to the optimal value. Conversely, with a large learning rate, gradient descent might not converge or might even diverge!\nUsing the best learning rate that you found, run the script\nto run gradient descent until convergence to find the final values of $\\theta$. Next,\nuse this value of $\\theta$ to predict the price of a house with 1650 square feet and\n3 bedrooms. You will use value later to check your implementation of the normal equations. Don’t forget to normalize your features when you make this prediction!",
   "metadata": {
    "cell_id": "00055-50a48d9f-7805-4ce3-8ef2-a98b1686aab6",
    "deepnote_cell_type": "markdown"
   }
  },
  {
   "cell_type": "code",
   "metadata": {
    "cell_id": "00056-9d3beee8-ad33-4e80-b5eb-aa99b75075e3",
    "deepnote_cell_type": "code"
   },
   "source": "\"\"\"\nInstructions\n------------\nWe have provided you with the following starter code that runs\ngradient descent with a particular learning rate (alpha). \n\nYour task is to first make sure that your functions - `computeCost`\nand `gradientDescent` already work with  this starter code and\nsupport multiple variables.\n\nAfter that, try running gradient descent with different values of\nalpha and see which one gives you the best result.\n\nFinally, you should complete the code at the end to predict the price\nof a 1650 sq-ft, 3 br house.\n\nHint\n----\nAt prediction, make sure you do the same feature normalization.\n\"\"\"\n# Choose some alpha value - change this\nalpha = 0.1\nnum_iters = 400\n\n# init theta and run gradient descent\ntheta = np.zeros(3)\ntheta, J_history = gradientDescentMulti(X, y, theta, alpha, num_iters)\n\n# Plot the convergence graph\npyplot.plot(np.arange(len(J_history)), J_history, lw=2)\npyplot.xlabel('Number of iterations')\npyplot.ylabel('Cost J')\n\n# Display the gradient descent's result\nprint('theta computed from gradient descent: {:s}'.format(str(theta)))\n\n# Estimate the price of a 1650 sq-ft, 3 br house\n# ======================= YOUR CODE HERE ===========================\n# Recall that the first column of X is all-ones. \n# Thus, it does not need to be normalized.\n\nprice = 0   # You should change this\n\n# ===================================================================\n\nprint('Predicted price of a 1650 sq-ft, 3 br house (using gradient descent): ${:.0f}'.format(price))",
   "execution_count": null,
   "outputs": []
  },
  {
   "cell_type": "markdown",
   "source": "*You do not need to submit any solutions for this optional (ungraded) part.*",
   "metadata": {
    "cell_id": "00057-8a942502-43c3-4c3b-a400-4405ebbe5685",
    "deepnote_cell_type": "markdown"
   }
  },
  {
   "cell_type": "markdown",
   "source": "<a id=\"section7\"></a>\n### 3.3 Normal Equations\n\nIn the lecture videos, you learned that the closed-form solution to linear regression is\n\n$$ \\theta = \\left( X^T X\\right)^{-1} X^T\\vec{y}$$\n\nUsing this formula does not require any feature scaling, and you will get an exact solution in one calculation: there is no “loop until convergence” like in gradient descent. \n\nFirst, we will reload the data to ensure that the variables have not been modified. Remember that while you do not need to scale your features, we still need to add a column of 1’s to the $X$ matrix to have an intercept term ($\\theta_0$). The code in the next cell will add the column of 1’s to X for you.",
   "metadata": {
    "cell_id": "00058-f24485fb-424f-4f25-84e8-9b38d466c692",
    "deepnote_cell_type": "markdown"
   }
  },
  {
   "cell_type": "code",
   "metadata": {
    "cell_id": "00059-8575fce5-4c12-43e1-8a27-184260bdc516",
    "deepnote_cell_type": "code"
   },
   "source": "# Load data\ndata = np.loadtxt(os.path.join('Data', 'ex1data2.txt'), delimiter=',')\nX = data[:, :2]\ny = data[:, 2]\nm = y.size\nX = np.concatenate([np.ones((m, 1)), X], axis=1)",
   "execution_count": null,
   "outputs": []
  },
  {
   "cell_type": "markdown",
   "source": "Complete the code for the function `normalEqn` below to use the formula above to calculate $\\theta$. \n\n<a id=\"normalEqn\"></a>",
   "metadata": {
    "cell_id": "00060-0ccf1f91-88c4-4c62-a60c-2d8434660cba",
    "deepnote_cell_type": "markdown"
   }
  },
  {
   "cell_type": "code",
   "metadata": {
    "cell_id": "00061-f2816ec3-7a10-432c-847d-d22e74519b0a",
    "deepnote_cell_type": "code"
   },
   "source": "def normalEqn(X, y):\n    \"\"\"\n    Computes the closed-form solution to linear regression using the normal equations.\n    \n    Parameters\n    ----------\n    X : array_like\n        The dataset of shape (m x n+1).\n    \n    y : array_like\n        The value at each data point. A vector of shape (m, ).\n    \n    Returns\n    -------\n    theta : array_like\n        Estimated linear regression parameters. A vector of shape (n+1, ).\n    \n    Instructions\n    ------------\n    Complete the code to compute the closed form solution to linear\n    regression and put the result in theta.\n    \n    Hint\n    ----\n    Look up the function `np.linalg.pinv` for computing matrix inverse.\n    \"\"\"\n    theta = np.zeros(X.shape[1])\n    \n    # ===================== YOUR CODE HERE ============================\n\n    \n    # =================================================================\n    return theta",
   "execution_count": null,
   "outputs": []
  },
  {
   "cell_type": "markdown",
   "source": "*You should now submit your solutions.*",
   "metadata": {
    "cell_id": "00062-08c9ae3d-bd90-46a7-aaf8-b00e4ccc8024",
    "deepnote_cell_type": "markdown"
   }
  },
  {
   "cell_type": "code",
   "metadata": {
    "cell_id": "00063-130199bd-bed6-4f19-8a94-57f8335b35ca",
    "deepnote_cell_type": "code"
   },
   "source": "grader[7] = normalEqn\ngrader.grade()",
   "execution_count": null,
   "outputs": []
  },
  {
   "cell_type": "markdown",
   "source": "Optional (ungraded) exercise: Now, once you have found $\\theta$ using this\nmethod, use it to make a price prediction for a 1650-square-foot house with\n3 bedrooms. You should find that gives the same predicted price as the value\nyou obtained using the model fit with gradient descent (in Section 3.2.1).",
   "metadata": {
    "cell_id": "00064-ac6f5323-f94b-4a03-a0d2-8568527027b3",
    "deepnote_cell_type": "markdown"
   }
  },
  {
   "cell_type": "code",
   "metadata": {
    "cell_id": "00065-5913c377-a347-4108-8776-328b8628a14c",
    "deepnote_cell_type": "code"
   },
   "source": "# Calculate the parameters from the normal equation\ntheta = normalEqn(X, y);\n\n# Display normal equation's result\nprint('Theta computed from the normal equations: {:s}'.format(str(theta)));\n\n# Estimate the price of a 1650 sq-ft, 3 br house\n# ====================== YOUR CODE HERE ======================\n\nprice = 0 # You should change this\n\n# ============================================================\n\nprint('Predicted price of a 1650 sq-ft, 3 br house (using normal equations): ${:.0f}'.format(price))",
   "execution_count": null,
   "outputs": []
  },
  {
   "cell_type": "markdown",
   "source": "<a style='text-decoration:none;line-height:16px;display:flex;color:#5B5B62;padding:10px;justify-content:end;' href='https://deepnote.com?utm_source=created-in-deepnote-cell&projectId=41193e0d-767a-40e4-87f1-af21824f64ff' target=\"_blank\">\n<img alt='Created in deepnote.com' style='display:inline;max-height:16px;margin:0px;margin-right:7.5px;' src='data:image/svg+xml;base64,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' > </img>\nCreated in <span style='font-weight:600;margin-left:4px;'>Deepnote</span></a>",
   "metadata": {
    "tags": [],
    "created_in_deepnote_cell": true,
    "deepnote_cell_type": "markdown"
   }
  }
 ],
 "nbformat": 4,
 "nbformat_minor": 2,
 "metadata": {
  "kernelspec": {
   "display_name": "Python 3",
   "language": "python",
   "name": "python3"
  },
  "language_info": {
   "codemirror_mode": {
    "name": "ipython",
    "version": 3
   },
   "file_extension": ".py",
   "mimetype": "text/x-python",
   "name": "python",
   "nbconvert_exporter": "python",
   "pygments_lexer": "ipython3",
   "version": "3.6.6"
  },
  "deepnote_notebook_id": "30688aa8-88cc-4e35-82f6-6618391fa65e",
  "deepnote": {},
  "deepnote_execution_queue": []
 }
}